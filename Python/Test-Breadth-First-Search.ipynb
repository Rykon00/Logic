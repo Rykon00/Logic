{
 "cells": [
  {
   "cell_type": "code",
   "execution_count": null,
   "id": "9c839d94",
   "metadata": {},
   "outputs": [],
   "source": [
    "from IPython.core.display import HTML\n",
    "with open('style.css', 'r') as file:\n",
    "    css = file.read()\n",
    "HTML(css)"
   ]
  },
  {
   "cell_type": "markdown",
   "id": "a78024a9",
   "metadata": {},
   "source": [
    "This notebook is supposed to test our implementation of *breadth first search*."
   ]
  },
  {
   "cell_type": "code",
   "execution_count": null,
   "id": "381ac739",
   "metadata": {},
   "outputs": [],
   "source": [
    "%run Breadth-First-Search.ipynb"
   ]
  },
  {
   "cell_type": "code",
   "execution_count": null,
   "id": "051bf1c9",
   "metadata": {},
   "outputs": [],
   "source": [
    "%run Graphviz.ipynb"
   ]
  },
  {
   "cell_type": "code",
   "execution_count": null,
   "id": "0e02ccfc",
   "metadata": {},
   "outputs": [],
   "source": [
    "R = { (1,2), (2,3), (1, 3), (2,4), (4,5), (3,6), (7,8), (2,8) }"
   ]
  },
  {
   "cell_type": "code",
   "execution_count": null,
   "id": "ec8426b4",
   "metadata": {},
   "outputs": [],
   "source": [
    "dot_graph(R)"
   ]
  },
  {
   "cell_type": "code",
   "execution_count": null,
   "id": "2e60e6f0",
   "metadata": {},
   "outputs": [],
   "source": [
    "search(R, 1, 5)"
   ]
  },
  {
   "cell_type": "code",
   "execution_count": null,
   "id": "9264c0a0",
   "metadata": {},
   "outputs": [],
   "source": [
    "search(R, 2, 7)"
   ]
  },
  {
   "cell_type": "code",
   "execution_count": null,
   "id": "e009ac15",
   "metadata": {},
   "outputs": [],
   "source": []
  }
 ],
 "metadata": {
  "kernelspec": {
   "display_name": "Python 3 (ipykernel)",
   "language": "python",
   "name": "python3"
  },
  "language_info": {
   "codemirror_mode": {
    "name": "ipython",
    "version": 3
   },
   "file_extension": ".py",
   "mimetype": "text/x-python",
   "name": "python",
   "nbconvert_exporter": "python",
   "pygments_lexer": "ipython3",
   "version": "3.9.7"
  }
 },
 "nbformat": 4,
 "nbformat_minor": 5
}
