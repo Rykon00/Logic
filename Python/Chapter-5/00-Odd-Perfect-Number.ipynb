{
 "cells": [
  {
   "cell_type": "code",
   "execution_count": null,
   "id": "06fcd38b",
   "metadata": {},
   "outputs": [],
   "source": [
    "from IPython.display import HTML\n",
    "HTML(open('../style.css', 'r').read())"
   ]
  },
  {
   "cell_type": "code",
   "execution_count": 2,
   "id": "2f2e6363-7c4f-414b-a67d-a23c14f8c7b6",
   "metadata": {},
   "outputs": [
    {
     "name": "stdout",
     "output_type": "stream",
     "text": [
      "Requirement already satisfied: nb-mypy in c:\\users\\meine\\anaconda3\\lib\\site-packages (1.0.5)\n",
      "Requirement already satisfied: astor<1,>=0.8 in c:\\users\\meine\\anaconda3\\lib\\site-packages (from nb-mypy) (0.8.1)\n",
      "Requirement already satisfied: mypy<2,>=1 in c:\\users\\meine\\anaconda3\\lib\\site-packages (from nb-mypy) (1.11.2)\n",
      "Requirement already satisfied: ipython<9,>=8.0 in c:\\users\\meine\\anaconda3\\lib\\site-packages (from nb-mypy) (8.27.0)\n",
      "Requirement already satisfied: decorator in c:\\users\\meine\\anaconda3\\lib\\site-packages (from ipython<9,>=8.0->nb-mypy) (5.1.1)\n",
      "Requirement already satisfied: jedi>=0.16 in c:\\users\\meine\\anaconda3\\lib\\site-packages (from ipython<9,>=8.0->nb-mypy) (0.19.1)\n",
      "Requirement already satisfied: matplotlib-inline in c:\\users\\meine\\anaconda3\\lib\\site-packages (from ipython<9,>=8.0->nb-mypy) (0.1.6)\n",
      "Requirement already satisfied: prompt-toolkit<3.1.0,>=3.0.41 in c:\\users\\meine\\anaconda3\\lib\\site-packages (from ipython<9,>=8.0->nb-mypy) (3.0.43)\n",
      "Requirement already satisfied: pygments>=2.4.0 in c:\\users\\meine\\anaconda3\\lib\\site-packages (from ipython<9,>=8.0->nb-mypy) (2.15.1)\n",
      "Requirement already satisfied: stack-data in c:\\users\\meine\\anaconda3\\lib\\site-packages (from ipython<9,>=8.0->nb-mypy) (0.2.0)\n",
      "Requirement already satisfied: traitlets>=5.13.0 in c:\\users\\meine\\anaconda3\\lib\\site-packages (from ipython<9,>=8.0->nb-mypy) (5.14.3)\n",
      "Requirement already satisfied: colorama in c:\\users\\meine\\anaconda3\\lib\\site-packages (from ipython<9,>=8.0->nb-mypy) (0.4.6)\n",
      "Requirement already satisfied: typing-extensions>=4.6.0 in c:\\users\\meine\\anaconda3\\lib\\site-packages (from mypy<2,>=1->nb-mypy) (4.11.0)\n",
      "Requirement already satisfied: mypy-extensions>=1.0.0 in c:\\users\\meine\\anaconda3\\lib\\site-packages (from mypy<2,>=1->nb-mypy) (1.0.0)\n",
      "Requirement already satisfied: parso<0.9.0,>=0.8.3 in c:\\users\\meine\\anaconda3\\lib\\site-packages (from jedi>=0.16->ipython<9,>=8.0->nb-mypy) (0.8.3)\n",
      "Requirement already satisfied: wcwidth in c:\\users\\meine\\anaconda3\\lib\\site-packages (from prompt-toolkit<3.1.0,>=3.0.41->ipython<9,>=8.0->nb-mypy) (0.2.5)\n",
      "Requirement already satisfied: executing in c:\\users\\meine\\anaconda3\\lib\\site-packages (from stack-data->ipython<9,>=8.0->nb-mypy) (0.8.3)\n",
      "Requirement already satisfied: asttokens in c:\\users\\meine\\anaconda3\\lib\\site-packages (from stack-data->ipython<9,>=8.0->nb-mypy) (2.0.5)\n",
      "Requirement already satisfied: pure-eval in c:\\users\\meine\\anaconda3\\lib\\site-packages (from stack-data->ipython<9,>=8.0->nb-mypy) (0.2.2)\n",
      "Requirement already satisfied: six in c:\\users\\meine\\anaconda3\\lib\\site-packages (from asttokens->stack-data->ipython<9,>=8.0->nb-mypy) (1.16.0)\n",
      "Note: you may need to restart the kernel to use updated packages.\n"
     ]
    }
   ],
   "source": [
    "%pip install nb-mypy"
   ]
  },
  {
   "cell_type": "code",
   "execution_count": 3,
   "id": "78d4711f-fc5c-4abe-9c3d-797b98cbfee3",
   "metadata": {},
   "outputs": [
    {
     "name": "stderr",
     "output_type": "stream",
     "text": [
      "Version 1.0.5\n"
     ]
    }
   ],
   "source": [
    "%load_ext nb_mypy"
   ]
  },
  {
   "cell_type": "markdown",
   "id": "c4a06281-f6e6-44ef-aa73-8140c49a2df3",
   "metadata": {},
   "source": [
    "A natural number $n$ is perfect if $n$ is equal to the sum of its proper divisors:\n",
    "$$ \\sum \\bigl\\{t \\mid t \\in \\{1,\\cdots, n-1\\} \\wedge n \\;\\%\\; t = 0 \\bigr\\}  = n $$\n",
    "For example, $6$ is perfect, because $6 = 1 + 2 + 3$, but $8$ is not perfect, because \n",
    "$1 + 2 + 4 = 7 \\not= 8$."
   ]
  },
  {
   "cell_type": "code",
   "execution_count": 4,
   "id": "03a6a7c6-7937-47c1-a4e2-0520dd39e6d4",
   "metadata": {},
   "outputs": [],
   "source": [
    "def perfect(n: int) -> bool:\n",
    "    return sum({ t for t in range(1, n) if n % t == 0 }) == n "
   ]
  },
  {
   "cell_type": "code",
   "execution_count": 5,
   "id": "83d52349-713f-4725-b2ee-c9102bc509a7",
   "metadata": {},
   "outputs": [
    {
     "data": {
      "text/plain": [
       "True"
      ]
     },
     "execution_count": 5,
     "metadata": {},
     "output_type": "execute_result"
    }
   ],
   "source": [
    "perfect(6)"
   ]
  },
  {
   "cell_type": "code",
   "execution_count": 6,
   "id": "8802287a-f419-4a4f-a74a-1c38da54ced5",
   "metadata": {},
   "outputs": [
    {
     "data": {
      "text/plain": [
       "False"
      ]
     },
     "execution_count": 6,
     "metadata": {},
     "output_type": "execute_result"
    }
   ],
   "source": [
    "perfect(8)"
   ]
  },
  {
   "cell_type": "code",
   "execution_count": 7,
   "id": "a26c335b-b382-4063-a586-eb7978c3905b",
   "metadata": {},
   "outputs": [],
   "source": [
    "def findOddPerfect() -> int | None:\n",
    "    n = 1\n",
    "    while True:\n",
    "        if perfect(n):\n",
    "            return n\n",
    "        if n % 1000 == 1:\n",
    "            print(n)\n",
    "        n += 2"
   ]
  },
  {
   "cell_type": "code",
   "execution_count": 8,
   "id": "9a4e6771-7323-4075-9360-b8c986f3df28",
   "metadata": {
    "editable": true,
    "slideshow": {
     "slide_type": ""
    },
    "tags": []
   },
   "outputs": [
    {
     "name": "stdout",
     "output_type": "stream",
     "text": [
      "1\n",
      "1001\n",
      "2001\n",
      "3001\n",
      "4001\n",
      "5001\n",
      "6001\n",
      "7001\n",
      "8001\n",
      "9001\n",
      "10001\n",
      "11001\n",
      "12001\n",
      "13001\n",
      "14001\n",
      "15001\n",
      "16001\n",
      "17001\n",
      "18001\n",
      "19001\n",
      "20001\n",
      "21001\n",
      "22001\n",
      "23001\n",
      "24001\n",
      "25001\n",
      "26001\n"
     ]
    },
    {
     "ename": "KeyboardInterrupt",
     "evalue": "",
     "output_type": "error",
     "traceback": [
      "\u001b[1;31m---------------------------------------------------------------------------\u001b[0m",
      "\u001b[1;31mKeyboardInterrupt\u001b[0m                         Traceback (most recent call last)",
      "Cell \u001b[1;32mIn[8], line 1\u001b[0m\n\u001b[1;32m----> 1\u001b[0m findOddPerfect()\n",
      "Cell \u001b[1;32mIn[7], line 4\u001b[0m, in \u001b[0;36mfindOddPerfect\u001b[1;34m()\u001b[0m\n\u001b[0;32m      2\u001b[0m n \u001b[38;5;241m=\u001b[39m \u001b[38;5;241m1\u001b[39m\n\u001b[0;32m      3\u001b[0m \u001b[38;5;28;01mwhile\u001b[39;00m \u001b[38;5;28;01mTrue\u001b[39;00m:\n\u001b[1;32m----> 4\u001b[0m     \u001b[38;5;28;01mif\u001b[39;00m perfect(n):\n\u001b[0;32m      5\u001b[0m         \u001b[38;5;28;01mreturn\u001b[39;00m n\n\u001b[0;32m      6\u001b[0m     \u001b[38;5;28;01mif\u001b[39;00m n \u001b[38;5;241m%\u001b[39m \u001b[38;5;241m1000\u001b[39m \u001b[38;5;241m==\u001b[39m \u001b[38;5;241m1\u001b[39m:\n",
      "Cell \u001b[1;32mIn[4], line 2\u001b[0m, in \u001b[0;36mperfect\u001b[1;34m(n)\u001b[0m\n\u001b[0;32m      1\u001b[0m \u001b[38;5;28;01mdef\u001b[39;00m \u001b[38;5;21mperfect\u001b[39m(n: \u001b[38;5;28mint\u001b[39m) \u001b[38;5;241m-\u001b[39m\u001b[38;5;241m>\u001b[39m \u001b[38;5;28mbool\u001b[39m:\n\u001b[1;32m----> 2\u001b[0m     \u001b[38;5;28;01mreturn\u001b[39;00m \u001b[38;5;28msum\u001b[39m({ t \u001b[38;5;28;01mfor\u001b[39;00m t \u001b[38;5;129;01min\u001b[39;00m \u001b[38;5;28mrange\u001b[39m(\u001b[38;5;241m1\u001b[39m, n) \u001b[38;5;28;01mif\u001b[39;00m n \u001b[38;5;241m%\u001b[39m t \u001b[38;5;241m==\u001b[39m \u001b[38;5;241m0\u001b[39m }) \u001b[38;5;241m==\u001b[39m n\n",
      "\u001b[1;31mKeyboardInterrupt\u001b[0m: "
     ]
    }
   ],
   "source": [
    "findOddPerfect()"
   ]
  },
  {
   "cell_type": "code",
   "execution_count": null,
   "id": "0fc023f9-8ccb-4dd6-95ec-d5021de45e35",
   "metadata": {},
   "outputs": [],
   "source": []
  }
 ],
 "metadata": {
  "kernelspec": {
   "display_name": "Python 3 (ipykernel)",
   "language": "python",
   "name": "python3"
  },
  "language_info": {
   "codemirror_mode": {
    "name": "ipython",
    "version": 3
   },
   "file_extension": ".py",
   "mimetype": "text/x-python",
   "name": "python",
   "nbconvert_exporter": "python",
   "pygments_lexer": "ipython3",
   "version": "3.12.7"
  }
 },
 "nbformat": 4,
 "nbformat_minor": 5
}
