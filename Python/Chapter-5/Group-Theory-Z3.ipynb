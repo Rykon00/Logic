{
 "cells": [
  {
   "cell_type": "markdown",
   "metadata": {},
   "source": [
    "# Group Theory with Z3"
   ]
  },
  {
   "cell_type": "markdown",
   "metadata": {},
   "source": [
    "In this notebook we show how to investigate topics in [group theory](https://en.wikipedia.org/wiki/Group_theory) using the constraint solver `Z3`.  In particular, \n",
    "we want to show that not every group is *commutative* by constructing a group in which the commutative law does not hold."
   ]
  },
  {
   "cell_type": "code",
   "execution_count": null,
   "metadata": {},
   "outputs": [],
   "source": [
    "!pip install z3-solver"
   ]
  },
  {
   "cell_type": "code",
   "execution_count": null,
   "metadata": {},
   "outputs": [],
   "source": [
    "import z3"
   ]
  },
  {
   "cell_type": "markdown",
   "metadata": {},
   "source": [
    "A [group](https://en.wikipedia.org/wiki/Group_(mathematics)) is defined as a triple \n",
    "$$ \\mathcal{G} = \\langle G, \\mathrm{e}, \\circ \\rangle $$\n",
    "such that\n",
    "- $G$ is a non-empty set,\n",
    "- $\\mathrm{e}$ is an element from $G$, and\n",
    "- $\\circ:G \\times G \\rightarrow G$ is a binary operation on $G$ such that the following axioms are satisfied:\n",
    "  * $\\forall x: \\mathrm{e} \\circ  x = x$,\n",
    "  * $\\forall x: \\exists{y}: y \\circ x = \\mathrm{e}$,\n",
    "  * $\\forall x: \\forall y: \\forall z: (x \\circ y) \\circ z = x \\circ (y \\circ z)$.\n",
    "  \n",
    "The group $\\mathcal{G}$ is *commutative* if, additionally, the following holds:\n",
    "  $$\\forall x: \\forall y: x \\circ y = y \\circ x. $$\n",
    "For example, the triple $\\langle \\mathbb{Z}, 0, + \\rangle$ is a commutative group. \n",
    "  \n",
    "It is natural to ask whether every group is commutative, i.e. whether the formula \n",
    "$\\forall x: \\forall y: x \\circ y = y \\circ x$ is a logical consequence of the three group axioms.\n",
    "To this end we can try to prove the following\n",
    "$$ \\{ \\forall x: \\mathrm{e} \\circ  x = x,\\; \\forall x: \\exists{y}: y \\circ x = \\mathrm{e},\\;\n",
    "      \\forall x: \\forall y: \\forall z: (x \\circ y) \\circ z = x \\circ (y \\circ z) \\} \\models \\forall x: \\forall y: x \\circ y = y \\circ x\n",
    "$$\n",
    "using automatic theorem proving.  "
   ]
  },
  {
   "cell_type": "code",
   "execution_count": null,
   "metadata": {},
   "outputs": [],
   "source": [
    "!cat ../../Vampire/non-commutative-group.tptp"
   ]
  },
  {
   "cell_type": "code",
   "execution_count": null,
   "metadata": {},
   "outputs": [],
   "source": [
    "!vampire --input_syntax tptp ../../Vampire/non-commutative-group.tptp"
   ]
  },
  {
   "cell_type": "markdown",
   "metadata": {},
   "source": [
    "However, as this attempt produces no result we can instead try to refute the hypothesis that every group is commutative by constructing a group that is not commutative.  We will try to find a *finite* non-commutative group.\n",
    "\n",
    "In a finite group with $n$ elements we can assume without loss of generality that the elements\n",
    "are the natural numbers $\\{ 0, 1, 2, \\cdots, n-1 \\}$.  Furthermore, by reordering the elements \n",
    "we can assume that $0$ is the neutral element $\\mathrm{e}$, i.e. we have $\\mathrm{e} = 0$.\n",
    "\n",
    "Therefore, in order to construct a group we only have to find a binary operation $\\circ$ on the set\n",
    "$\\{ 0, \\cdots, n-1 \\}$ that satisfies the three axioms specifying a group.  We will specify this operation \n",
    "as a dictionary `Multiply` that maps pairs of the form $\\langle x, y \\rangle \\in \\{ 0, \\cdots, n-1 \\} \\times \\{ 0, \\cdots, n-1 \\}$\n",
    "into the set $\\{ 0, \\cdots, n-1 \\}$.  The dictionary `Multiply` can be represented by the following set of `Z3` variables:"
   ]
  },
  {
   "cell_type": "code",
   "execution_count": null,
   "metadata": {},
   "outputs": [],
   "source": [
    "n = 3\n",
    "Variables = { (row, col): z3.Int(f'V{row}{col}') for col in range(n) \n",
    "                                                 for row in range(n) \n",
    "            }\n",
    "Variables"
   ]
  },
  {
   "cell_type": "markdown",
   "metadata": {},
   "source": [
    "The idea is that we have\n",
    "$$ x \\circ y = z \\;\\Longleftrightarrow\\; \\texttt{Variables}[x, y] = z.$$"
   ]
  },
  {
   "cell_type": "markdown",
   "metadata": {},
   "source": [
    "The axiom \n",
    "$$ \\forall x: \\mathrm{e} \\circ x = x $$\n",
    "that $0$ is the left neutral element of the binary operation $\\circ$ translates into the formula:\n",
    "$$ \\texttt{Multiply}[0, x] = x \\quad \\mbox{for all $x \\in \\{0, \\cdots, n-1\\}$.} $$\n",
    "The function `left_neutral` takes two arguments:\n",
    "* `n` is the size of the group.\n",
    "* `Variables` is the dictionary that encodes the binary operation of the group.\n",
    "\n",
    "The function returns a set of constraints specifying that $0$ is the *left neutral element* of the group."
   ]
  },
  {
   "cell_type": "code",
   "execution_count": null,
   "metadata": {},
   "outputs": [],
   "source": [
    "def left_neutral(n, Variables):\n",
    "    return { Variables[0, x] == x for x in range(n) }"
   ]
  },
  {
   "cell_type": "code",
   "execution_count": null,
   "metadata": {},
   "outputs": [],
   "source": [
    "left_neutral(3, Variables)"
   ]
  },
  {
   "cell_type": "markdown",
   "metadata": {},
   "source": [
    "The axiom\n",
    "$$ \\forall x: \\exists y: y \\circ x = \\mathrm{e} $$\n",
    "that every element $x$ has a left inverse element $y$ translates into the formula\n",
    "$$ \\forall x \\in \\{0, \\cdots, n-1\\}: \\exists y \\in \\{0, \\cdots, n-1\\}: \\texttt{Multiply}[y, x] = 0. $$\n",
    "\n",
    "The function `left_inverse` takes two arguments:\n",
    "* `n` is the size of the group.\n",
    "* `Variables` is the dictionary that encodes the binary operation of the group.\n",
    "\n",
    "The function returns a set of constraints that specify that every element has a left inverse element.\n",
    "Since the neutral element $0$ is already its own left inverse, for reasons of efficiency this element is excluded.\n",
    "Furthermore, we already know that the neutral element $0$ can never be the left inverse element of an\n",
    "element that is different from $0$."
   ]
  },
  {
   "cell_type": "code",
   "execution_count": null,
   "metadata": {},
   "outputs": [],
   "source": [
    "def left_inverse(n, Variables):\n",
    "    Constraints = set()\n",
    "    for x in range(1, n):\n",
    "        Constraints |= { z3.Or({ Variables[y, x] == 0 for y in range(1, n) }) }\n",
    "    return Constraints"
   ]
  },
  {
   "cell_type": "code",
   "execution_count": null,
   "metadata": {},
   "outputs": [],
   "source": [
    "left_inverse(3, Variables)"
   ]
  },
  {
   "cell_type": "markdown",
   "metadata": {},
   "source": [
    "The axiom\n",
    "$$ \\forall x: \\forall y: \\forall z: (x \\circ y) \\circ z = x \\circ (y \\circ z) $$\n",
    "translates into the formula\n",
    "$$ \\forall x \\in G: \n",
    "   \\forall y \\in G:\n",
    "   \\forall z \\in G:\n",
    "   \\forall xy \\in G:\n",
    "   \\forall zy \\in G:\n",
    "     \\bigl(\\texttt{Multiply}[x, y] = u \\wedge \\texttt{Multiply}[y, z] = v \\rightarrow \\texttt{Multiply}[u, z] = \\texttt{Multiply}[x, v]\\bigr), $$\n",
    "where we have defined $G = \\{0, \\cdots n-1\\}$.\n",
    "\n",
    "The function `associative` takes two arguments:\n",
    "* `n` is the size of the group.\n",
    "* `Variables` is the dictionary that encodes the binary operation of the group.\n",
    "\n",
    "The function returns a set of constraints that specify that the binary operation is associative."
   ]
  },
  {
   "cell_type": "code",
   "execution_count": null,
   "metadata": {},
   "outputs": [],
   "source": [
    "def associative(n, Variables):\n",
    "    L = range(0, n)\n",
    "    Constraints = set()\n",
    "    for x in L:\n",
    "        for y in L:\n",
    "            for z in L:\n",
    "                for xy in L:\n",
    "                    for yz in L:\n",
    "                        Constraints |= { z3.Implies(z3.And(Variables[x, y] == xy, Variables[y, z] == yz),\n",
    "                                                    Variables[xy, z] == Variables[x, yz]) \n",
    "                                       }\n",
    "    return Constraints"
   ]
  },
  {
   "cell_type": "code",
   "execution_count": null,
   "metadata": {},
   "outputs": [],
   "source": [
    "associative(3, Variables)"
   ]
  },
  {
   "cell_type": "markdown",
   "metadata": {},
   "source": [
    "The function `non_commute` takes two arguments:\n",
    "* `n` is the size of the group.\n",
    "* `Variables` is the dictionary that encodes the binary operation of the group.\n",
    "\n",
    "The function returns a set of constraints that specify that the binary operation $\\circ$ is \n",
    "not commutative, i.e. there is some $x$ and some $y$ such that $x \\circ y \\not= y \\circ x$."
   ]
  },
  {
   "cell_type": "code",
   "execution_count": null,
   "metadata": {},
   "outputs": [],
   "source": [
    "def non_commute(n, Variables):\n",
    "    Formulas = set()\n",
    "    for x in range(1, n):\n",
    "        for y in range(1, n):\n",
    "            if x != y:\n",
    "                Formulas |= { Variables[x, y] != Variables[y, x] }\n",
    "    return { z3.Or(Formulas) }"
   ]
  },
  {
   "cell_type": "code",
   "execution_count": null,
   "metadata": {},
   "outputs": [],
   "source": [
    "non_commute(3, Variables)"
   ]
  },
  {
   "cell_type": "markdown",
   "metadata": {},
   "source": [
    "All group elements are from the set $\\{0,1,\\cdots,n-1\\}$.\n",
    "\n",
    "The function `in_range` takes two arguments:\n",
    "* `n` is the size of the group.\n",
    "* `Variables` is the dictionary that encodes the binary operation of the group.\n",
    "\n",
    "The function returns a set of constraints that specify that the values of all variables are elements of\n",
    "the set $\\{0,1,\\cdots,n-1\\}$."
   ]
  },
  {
   "cell_type": "code",
   "execution_count": null,
   "metadata": {},
   "outputs": [],
   "source": [
    "def in_range(n, Variables):\n",
    "    Constraints = set()\n",
    "    for x in range(n):\n",
    "        for y in range(n):\n",
    "            Constraints |= { 0 <= Variables[x, y], Variables[x, y] < n }\n",
    "    return Constraints"
   ]
  },
  {
   "cell_type": "markdown",
   "metadata": {},
   "source": [
    "The function `all_constraints` returns a CSP that encodes the given sudoku as a CSP."
   ]
  },
  {
   "cell_type": "code",
   "execution_count": null,
   "metadata": {},
   "outputs": [],
   "source": [
    "def all_constraints(n, Variables):\n",
    "    Constraints  = left_neutral(n, Variables)\n",
    "    Constraints |= left_inverse(n, Variables)\n",
    "    Constraints |= associative (n, Variables)\n",
    "    Constraints |= non_commute (n, Variables)\n",
    "    Constraints |= in_range    (n, Variables)\n",
    "    return Constraints"
   ]
  },
  {
   "cell_type": "code",
   "execution_count": null,
   "metadata": {},
   "outputs": [],
   "source": [
    "len(all_constraints(3, Variables))"
   ]
  },
  {
   "cell_type": "markdown",
   "metadata": {},
   "source": [
    "The function `solve` receives one argument:\n",
    "- `n` is the size of the group that should be constructed.\n",
    "\n",
    "The function tries to construct a non-commutative group of size `n`.  It returns a solution if such a group exists.\n",
    "Otherwise, `None` is returned."
   ]
  },
  {
   "cell_type": "code",
   "execution_count": null,
   "metadata": {},
   "outputs": [],
   "source": [
    "def solve(n):\n",
    "    Variables = { (row, col): z3.Int(f'V{row}{col}') for col in range(n) \n",
    "                                                     for row in range(n) }\n",
    "    S = z3.Solver()\n",
    "    Constraints = all_constraints(n, Variables)\n",
    "    print(f'Number of constraints: {len(Constraints)}.')\n",
    "    S.add(Constraints)\n",
    "    result = str(S.check())\n",
    "    if result == 'sat':\n",
    "        M = S.model()\n",
    "        Solution = { f'V{row}{col}': M[Variables[row, col]] for row in range(n)\n",
    "                                                            for col in range(n)\n",
    "                   }\n",
    "        return Solution"
   ]
  },
  {
   "cell_type": "markdown",
   "metadata": {},
   "source": [
    "The function `find_non_commutative_group` tries to find a non-commutative group."
   ]
  },
  {
   "cell_type": "code",
   "execution_count": null,
   "metadata": {},
   "outputs": [],
   "source": [
    "def find_non_commutative_group():\n",
    "    n = 1\n",
    "    while True:\n",
    "        print(f'Testing n = {n} ...')\n",
    "        Solution = solve(n)\n",
    "        if Solution:\n",
    "            return Solution\n",
    "        n += 1"
   ]
  },
  {
   "cell_type": "code",
   "execution_count": null,
   "metadata": {},
   "outputs": [],
   "source": [
    "%%time\n",
    "Solution = find_non_commutative_group()\n",
    "Solution"
   ]
  },
  {
   "cell_type": "markdown",
   "metadata": {},
   "source": [
    "## Graphical Representation"
   ]
  },
  {
   "cell_type": "code",
   "execution_count": null,
   "metadata": {},
   "outputs": [],
   "source": [
    "import math"
   ]
  },
  {
   "cell_type": "code",
   "execution_count": null,
   "metadata": {},
   "outputs": [],
   "source": [
    "def show(Solution):\n",
    "    n = round(math.sqrt(len(Solution)))\n",
    "    # Determine the width of the widest element in the matrix\n",
    "    # Create the top and bottom of the matrix\n",
    "    top_line = '╔'\n",
    "    for i in range(n - 1):\n",
    "        top_line += '═' * 3 + '╦'\n",
    "    top_line += '═' * 3 + '╗'\n",
    "    mid_line = '╠'\n",
    "    for i in range(n - 1):\n",
    "        mid_line += '═' * 3 + '╬'\n",
    "    mid_line += '═' * 3 + '╣'    \n",
    "    bot_line = '╚'\n",
    "    for i in range(n - 1):\n",
    "        bot_line += '═' * 3 + '╩'\n",
    "    bot_line += '═' * 3 + '╝'\n",
    "    # Print the top of the matrix\n",
    "    print(top_line)\n",
    "    # Iterate through the rows and columns of the matrix, and print\n",
    "    # each element with proper padding\n",
    "    for row in range(n):\n",
    "        line = '\\u2551'\n",
    "        for col in range(n):\n",
    "            element = Solution[f'V{row}{col}']\n",
    "            line += f' {element} ║'\n",
    "        print(line)\n",
    "        # Print a horizontal line\n",
    "        if row < n - 1:\n",
    "            print(mid_line)\n",
    "    # Print the bottom of the matrix\n",
    "    print(bot_line)"
   ]
  },
  {
   "cell_type": "code",
   "execution_count": null,
   "metadata": {},
   "outputs": [],
   "source": [
    "show(Solution)"
   ]
  },
  {
   "cell_type": "code",
   "execution_count": null,
   "metadata": {},
   "outputs": [],
   "source": []
  }
 ],
 "metadata": {
  "kernelspec": {
   "display_name": "Python 3 (ipykernel)",
   "language": "python",
   "name": "python3"
  },
  "language_info": {
   "codemirror_mode": {
    "name": "ipython",
    "version": 3
   },
   "file_extension": ".py",
   "mimetype": "text/x-python",
   "name": "python",
   "nbconvert_exporter": "python",
   "pygments_lexer": "ipython3",
   "version": "3.12.2"
  },
  "toc": {
   "base_numbering": 1,
   "nav_menu": {},
   "number_sections": true,
   "sideBar": true,
   "skip_h1_title": false,
   "title_cell": "Table of Contents",
   "title_sidebar": "Contents",
   "toc_cell": false,
   "toc_position": {},
   "toc_section_display": true,
   "toc_window_display": false
  },
  "varInspector": {
   "cols": {
    "lenName": 16,
    "lenType": 16,
    "lenVar": 40
   },
   "kernels_config": {
    "python": {
     "delete_cmd_postfix": "",
     "delete_cmd_prefix": "del ",
     "library": "var_list.py",
     "varRefreshCmd": "print(var_dic_list())"
    },
    "r": {
     "delete_cmd_postfix": ") ",
     "delete_cmd_prefix": "rm(",
     "library": "var_list.r",
     "varRefreshCmd": "cat(var_dic_list()) "
    }
   },
   "types_to_exclude": [
    "module",
    "function",
    "builtin_function_or_method",
    "instance",
    "_Feature"
   ],
   "window_display": false
  }
 },
 "nbformat": 4,
 "nbformat_minor": 4
}
