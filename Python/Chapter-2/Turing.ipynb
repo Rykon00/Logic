{
 "cells": [
  {
   "cell_type": "code",
   "execution_count": null,
   "metadata": {},
   "outputs": [],
   "source": [
    "from IPython.display import HTML\n",
    "HTML(open('../style.css', 'r').read())"
   ]
  },
  {
   "cell_type": "markdown",
   "metadata": {},
   "source": [
    "# The Halting Problem\n",
    "\n",
    "This notebook proves the undecidability of the *halting problem*.\n",
    "We start with a number of definitions.\n",
    "\n",
    "A string $t$ is a *test function with name $f$*\n",
    "iff $t$ has the form \n",
    "```\n",
    "\"\"\"\n",
    "def f(x): \n",
    "    body        \n",
    "\"\"\"\n",
    "```\n",
    "and, furthermore, the string $t$ can be parsed as a *Python* function, that is the evaluation of\n",
    "```\n",
    "exec(t)\n",
    "```\n",
    "does not yield an error.  \n",
    "The set of all test functions is denoted as $T\\!F$.  If $t \\in T\\!F$ and $t$ has the name $f$, then\n",
    "this is written as $\\mathtt{name}(t) = f$.\n",
    "\n",
    "We provide some examples next."
   ]
  },
  {
   "cell_type": "markdown",
   "metadata": {},
   "source": [
    "The string `t1` is a *test function* with the name `simple`."
   ]
  },
  {
   "cell_type": "code",
   "execution_count": null,
   "metadata": {},
   "outputs": [],
   "source": [
    "t1 = '''def simple(x): \n",
    "            return 0\n",
    "     '''"
   ]
  },
  {
   "cell_type": "code",
   "execution_count": null,
   "metadata": {},
   "outputs": [],
   "source": [
    "print(t1)"
   ]
  },
  {
   "cell_type": "markdown",
   "metadata": {},
   "source": [
    "By executing this string, we define the function `simple`. "
   ]
  },
  {
   "cell_type": "code",
   "execution_count": null,
   "metadata": {},
   "outputs": [],
   "source": [
    "exec(t1)"
   ]
  },
  {
   "cell_type": "code",
   "execution_count": null,
   "metadata": {},
   "outputs": [],
   "source": [
    "simple(1)"
   ]
  },
  {
   "cell_type": "markdown",
   "metadata": {},
   "source": [
    "The string `t2` is a *test function* with the name `loop`."
   ]
  },
  {
   "cell_type": "code",
   "execution_count": null,
   "metadata": {},
   "outputs": [],
   "source": [
    "t2 = '''def loop(x): \n",
    "            while True: \n",
    "                x = x + 1\n",
    "     '''"
   ]
  },
  {
   "cell_type": "code",
   "execution_count": null,
   "metadata": {},
   "outputs": [],
   "source": [
    "exec(t2)"
   ]
  },
  {
   "cell_type": "code",
   "execution_count": null,
   "metadata": {},
   "outputs": [],
   "source": [
    "loop"
   ]
  },
  {
   "cell_type": "markdown",
   "metadata": {},
   "source": [
    "Obviously, the next cell will not terminate."
   ]
  },
  {
   "cell_type": "code",
   "execution_count": null,
   "metadata": {},
   "outputs": [],
   "source": [
    "loop(1)"
   ]
  },
  {
   "cell_type": "markdown",
   "metadata": {},
   "source": [
    "The string `t3` is not a *test function* since Python does not have the operator `++`."
   ]
  },
  {
   "cell_type": "code",
   "execution_count": null,
   "metadata": {},
   "outputs": [],
   "source": [
    "t3 = '''def hugo(x): \n",
    "            return x++ \n",
    "     '''"
   ]
  },
  {
   "cell_type": "markdown",
   "metadata": {},
   "source": [
    "As `t3` is not a test function, the next cell will yield a *syntax error*."
   ]
  },
  {
   "cell_type": "code",
   "execution_count": null,
   "metadata": {},
   "outputs": [],
   "source": [
    "exec(t3)"
   ]
  },
  {
   "cell_type": "markdown",
   "metadata": {},
   "source": [
    "**Notation:**\n",
    "If $n$ is the name of a Python function that takes $k$ arguments $a_1$, $\\cdots$, $a_k$,\n",
    "then we write \n",
    "$$n(a_1, \\cdots, a_k) \\leadsto r$$ \n",
    "iff the evaluation of the expression $n(a_1, \\cdots, a_k)$ yields the result $r$.  \n",
    "\n",
    "If we are not\n",
    "concerned with the result $r$ but only want to state that the evaluation *terminates* eventually,\n",
    "then we will write\n",
    "$$n(a_1, \\cdots, a_k) \\,\\downarrow$$\n",
    "and read this notation as *evaluation of $n(a_1, \\cdots, a_k)$ terminates*.\n",
    "\n",
    "If the evaluation of the expression $n(a_1, \\cdots, a_k)$ does **not** terminate, this is\n",
    "written as \n",
    "$$n(a_1, \\cdots, a_k) \\,\\uparrow.$$\n",
    "This notation is read as *evaluation of $n(a_1, \\cdots, a_k)$ diverges*."
   ]
  },
  {
   "cell_type": "markdown",
   "metadata": {},
   "source": [
    "The *halting problem* for Python functions is the question whether there is a\n",
    "Python function \n",
    "```\n",
    "def stops(t, a):\n",
    "    ...\n",
    "```\n",
    "that takes as input a test function $t$ and a string $a$ and that satisfies the following specification:\n",
    "- $t \\not\\in T\\!F \\quad\\Leftrightarrow\\quad \\mathtt{stops}(t, a) \\leadsto 2$.\n",
    "\n",
    "  If the first argument of `stops` is not a test function, then \n",
    "  `stops(t, a) == 2`.\n",
    "- $t \\in T\\!F \\,\\wedge\\, \\mathtt{name}(t) = n \\,\\wedge\\, n(a)\\downarrow \\quad\\Leftrightarrow\\quad \\mathtt{stops}(t, a) \\leadsto 1$.\n",
    "\n",
    "  If the first argument of `stops` is a test function with name $n$ and, furthermore,\n",
    "  the evaluation of $n(a)$ terminates, then `stops(t, a) == 1`.\n",
    "\n",
    "- $t \\in T\\!F \\,\\wedge\\, \\mathtt{name}(t) = n \\,\\wedge\\, n(a)\\uparrow \\quad\\Leftrightarrow\\quad \\mathtt{stops}(t, a) \\leadsto 0$.\n",
    "\n",
    "  If the first argument of `stops` is a test function with name $n$ but the evaluation of $n(a)$ \n",
    "  diverges, then `stops(t, a) == 0`."
   ]
  },
  {
   "cell_type": "markdown",
   "metadata": {},
   "source": [
    "The function `turing` is a test function with name `alan`. \n",
    "It makes use of the function `stops`."
   ]
  },
  {
   "cell_type": "code",
   "execution_count": null,
   "metadata": {},
   "outputs": [],
   "source": [
    "turing = '''def alan(x):\n",
    "                result = stops(x, x)\n",
    "                if result == 1:\n",
    "                    while True:\n",
    "                        print(\"... looping ...\")\n",
    "                return result\n",
    "         '''"
   ]
  },
  {
   "cell_type": "code",
   "execution_count": null,
   "metadata": {},
   "outputs": [],
   "source": [
    "exec(turing)"
   ]
  },
  {
   "cell_type": "markdown",
   "metadata": {},
   "source": [
    "As `turing` is a test function, there are only two possibilities for the call `stops(turing, turing)`.\n",
    "1. Case:  `stops(turing, turing) == 1`.\n",
    "   Provided the function `stops` solves the *halting problem*, then the call `alan(turing)` should terminate.\n",
    "2. Case:  `stops(turing, turing) == 0`.\n",
    "   According to the specification of `stops`, then the call `alan(turing)` should diverge. \n",
    "   \n",
    "Let us check both cases.  First, we pretend that `stops(turing, turing) == 1`."
   ]
  },
  {
   "cell_type": "code",
   "execution_count": null,
   "metadata": {},
   "outputs": [],
   "source": [
    "def stops(fct, arg):\n",
    "    return 1"
   ]
  },
  {
   "cell_type": "markdown",
   "metadata": {},
   "source": [
    "We will see that contrary to the specification of stops, the call `alan(turing)` loops."
   ]
  },
  {
   "cell_type": "code",
   "execution_count": null,
   "metadata": {},
   "outputs": [],
   "source": [
    "alan(turing)"
   ]
  },
  {
   "cell_type": "markdown",
   "metadata": {},
   "source": [
    "Let us assume that `stops(turing, turing) == 0` next."
   ]
  },
  {
   "cell_type": "code",
   "execution_count": null,
   "metadata": {},
   "outputs": [],
   "source": [
    "def stops(fct, arg):\n",
    "    return 0"
   ]
  },
  {
   "cell_type": "markdown",
   "metadata": {},
   "source": [
    "According to the specification of the function `stops`, the call `alan(turing)` should loop.  However, it returns `0` instead."
   ]
  },
  {
   "cell_type": "code",
   "execution_count": null,
   "metadata": {},
   "outputs": [],
   "source": [
    "alan(turing)"
   ]
  },
  {
   "cell_type": "markdown",
   "metadata": {},
   "source": [
    "We can only conclude that there is no way that the function `stops` can satisfy its specification.\n",
    "Hence the *halting problem* is unsolvable."
   ]
  },
  {
   "cell_type": "code",
   "execution_count": null,
   "metadata": {},
   "outputs": [],
   "source": []
  }
 ],
 "metadata": {
  "hide_input": false,
  "kernelspec": {
   "display_name": "Python 3 (ipykernel)",
   "language": "python",
   "name": "python3"
  },
  "language_info": {
   "codemirror_mode": {
    "name": "ipython",
    "version": 3
   },
   "file_extension": ".py",
   "mimetype": "text/x-python",
   "name": "python",
   "nbconvert_exporter": "python",
   "pygments_lexer": "ipython3",
   "version": "3.13.2"
  },
  "toc": {
   "base_numbering": 1,
   "nav_menu": {},
   "number_sections": true,
   "sideBar": true,
   "skip_h1_title": false,
   "title_cell": "Table of Contents",
   "title_sidebar": "Contents",
   "toc_cell": false,
   "toc_position": {},
   "toc_section_display": true,
   "toc_window_display": false
  },
  "varInspector": {
   "cols": {
    "lenName": 16,
    "lenType": 16,
    "lenVar": 40
   },
   "kernels_config": {
    "python": {
     "delete_cmd_postfix": "",
     "delete_cmd_prefix": "del ",
     "library": "var_list.py",
     "varRefreshCmd": "print(var_dic_list())"
    },
    "r": {
     "delete_cmd_postfix": ") ",
     "delete_cmd_prefix": "rm(",
     "library": "var_list.r",
     "varRefreshCmd": "cat(var_dic_list()) "
    }
   },
   "types_to_exclude": [
    "module",
    "function",
    "builtin_function_or_method",
    "instance",
    "_Feature"
   ],
   "window_display": false
  }
 },
 "nbformat": 4,
 "nbformat_minor": 4
}
