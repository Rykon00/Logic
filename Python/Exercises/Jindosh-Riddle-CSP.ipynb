{
 "cells": [
  {
   "cell_type": "markdown",
   "metadata": {},
   "source": [
    "The next cell ensures that we can use the full width of the screen in each cell of our notebook."
   ]
  },
  {
   "cell_type": "code",
   "execution_count": null,
   "metadata": {},
   "outputs": [],
   "source": [
    "%%HTML\n",
    "<style>\n",
    ".container { width:100% !important; }\n",
    "</style>"
   ]
  },
  {
   "cell_type": "markdown",
   "metadata": {},
   "source": [
    "# <a href=\"https://i.imgur.com/GSmROeah.jpg\">The Jindosh Riddle</a>"
   ]
  },
  {
   "cell_type": "markdown",
   "metadata": {},
   "source": [
    "At the dinner party were <em style=\"color:blue\">Lady Winslow</em>, <em style=\"color:blue\">Doctor Marcolla</em>, <em style=\"color:blue\">Countess Contee</em>, <em style=\"color:blue\">Madam Natsiou</em>, and <em style=\"color:blue\">Baroness Finch</em>.\n",
    "\n",
    "The women sat in a row. They all wore different colors.\n",
    "  - <em style=\"color:blue\">Baroness Finch</em> wore a jaunty <em style=\"color:brown\">purple</em> hat. \n",
    "  - <em style=\"color:blue\">Countess Contee</em> was at the far left, next to the guest wearing a <em style=\"color:brown\">red</em> jacket. \n",
    "  - The lady in <em style=\"color:brown\">blue</em> sat left of someone in <em style=\"color:brown\">green</em>. \n",
    "  - I remember that <em style=\"color:brown\">blue</em> outfit because the woman spilled her <em style=\"color:yellow; background-color:black; background-color:black\">whiskey</em> all over it. \n",
    "  - The traveler from <em style=\"color:green\">Baleton</em> was dressed entierly in <em style=\"color:brown\">white</em>.\n",
    "  - When one of the dinner guests bragged about her <em style=\"color:gold; background-color:darkblue\">War Medal</em>, the woman next to her said they were finer in <em style=\"color:green\">Baleton</em>, where she lived.\n",
    "  - So <em style=\"color:blue\">Doctor Marcolla</em> showed off a prized <em style=\"color:gold; background-color:darkblue\">Bird Pendant</em> \n",
    "  - at which the lady from <em style=\"color:green\">Fraeport</em> scoffed, saying it was no match for her <em style=\"color:gold; background-color:darkblue\">Snuff Tin</em>.  \n",
    "  - Someone else carried a valuable <em style=\"color:gold; background-color:darkblue\">Ring</em> and when she saw it, the visitor from <em style=\"color:green\">Dabokva</em> next to her almost spilled her neighbor's <em style=\"color:yellow; background-color:black\">beer</em>.  \n",
    "  - <em style=\"color:blue\">Lady Winslow</em> raised her <em style=\"color:yellow; background-color:black\">rum</em> in toast. \n",
    "  - The lady from <em style=\"color:green\">Dunwall</em>, full of <em style=\"color:yellow; background-color:black\">wine</em>, jumped up onto the table, falling onto the guest in the center seat, spilling the poor woman's <em style=\"color:yellow; background-color:black\">absinthe</em>. \n",
    "  - Then <em style=\"color:blue\">Madam Natsiou</em> captivated them all with a story about her wild youth in <em style=\"color:green\">Karnaca</em>.\n",
    "\n",
    "In the morning, there were four heirlooms under the table: The <em style=\"color:gold; background-color:darkblue\">War Medal</em>, the <em style=\"color:gold; background-color:darkblue\">Diamond</em>, the <em style=\"color:gold; background-color:darkblue\">Snuff Tin</em>, and the <em style=\"color:gold; background-color:darkblue\">Ring</em>.\n",
    "\n",
    "But who owned each?"
   ]
  },
  {
   "cell_type": "markdown",
   "metadata": {},
   "source": [
    "## Choosing the Appropriate Variables"
   ]
  },
  {
   "cell_type": "markdown",
   "metadata": {},
   "source": [
    "In order to solve this problem we use the following  variables:  \n",
    "<ol>\n",
    "<li> The variable $\\texttt{Winslow}$ specifies the chair occupied by Lady Winslow, i.e. if $\\texttt{Winslow} = i$, then\n",
    "     Lady Winslow has been sitting on the $i$th chair.  The remaining persons are coded using the variables\n",
    "     $\\texttt{Marcolla}$, $\\texttt{Contee}$, $\\texttt{Natsiou}$, and $\\texttt{Finch}$.\n",
    "     </li>\n",
    "<li> The variable $\\mathtt{Red}$ specifies the chair occupied by the lady in red.  We use the variables $\\texttt{Green}$, \n",
    "     $\\texttt{Blue}$, $\\texttt{White}$, and $\\texttt{Purple}$ to encode the remaining colors.\n",
    "     </li>\n",
    "<li> The variable $\\texttt{Baleton}$ specifies the chair occupied by the lady from Baleton.  We use the variables \n",
    "     $\\texttt{Fraeport}$, $\\texttt{Dabokva}$, $\\texttt{Dunwall}$, and $\\texttt{Karnaca}$ to encode the remaining\n",
    "     cities.\n",
    "     </li>\n",
    "<li> The variable $\\texttt{WarMedal}$ specifies the chair occupied by the lady who has the war medal. We use the variables\n",
    "     $\\texttt{BirdPendant}$, $\\texttt{SnuffTin}$, $\\texttt{Diamond}$, and $\\texttt{Ring}$ to encode the remaining heirlooms.\n",
    "     </li>\n",
    "<li> The variable $\\texttt{Whiskey}$ specifies the chair occupied by the lady who drinks whiskey.  We use the variables\n",
    "     $\\texttt{Beer}$, $\\texttt{Wine}$, $\\texttt{Rum}$, and $\\texttt{Absinthe}$ to encode the remaining drinks.\n",
    "     </li>\n",
    "<ol>"
   ]
  },
  {
   "cell_type": "code",
   "execution_count": null,
   "metadata": {},
   "outputs": [],
   "source": [
    "Ladies    = { 'Winslow', 'Marcolla', 'Contee', 'Natsiou', 'Finch' }\n",
    "Drinks    = { 'Whiskey', 'Beer', 'Wine', 'Absinthe', 'Rum' }\n",
    "Cities    = { 'Baleton', 'Fraeport', 'Dabokva', 'Dunwall', 'Karnaca' }\n",
    "Heirlooms = { 'WarMedal', 'BirdPendant', 'SnuffTin', 'Ring', 'Diamond' }\n",
    "Colors    = { 'Green', 'Red', 'Blue', 'White', 'Purple' }"
   ]
  },
  {
   "cell_type": "markdown",
   "metadata": {},
   "source": [
    "## Importing the Necessary Modules"
   ]
  },
  {
   "cell_type": "code",
   "execution_count": null,
   "metadata": {},
   "outputs": [],
   "source": [
    "import cspSolver"
   ]
  },
  {
   "cell_type": "markdown",
   "metadata": {},
   "source": [
    "## Auxiliary Functions "
   ]
  },
  {
   "cell_type": "markdown",
   "metadata": {},
   "source": [
    "Given a set $V$ of variables, the function $\\texttt{allDifferent}(V)$ computes a set of constraints that are true if the variables in $V$ have values that are different from each other."
   ]
  },
  {
   "cell_type": "code",
   "execution_count": null,
   "metadata": {},
   "outputs": [],
   "source": [
    "def allDifferent(Variables):\n",
    "    'your code here'"
   ]
  },
  {
   "cell_type": "markdown",
   "metadata": {},
   "source": [
    "We define the set of properties that occur in the problem."
   ]
  },
  {
   "cell_type": "code",
   "execution_count": null,
   "metadata": {},
   "outputs": [],
   "source": [
    "def createCSP():\n",
    "    Variables   = [ 'define all the variables here',\n",
    "                    'list the variables in the order you encounter them in the constraints'\n",
    "                  ]\n",
    "    Values      = 'your code here'\n",
    "    Constraints = { # Baroness Finch wore a jaunty purple hat.\n",
    "                    'your code here'\n",
    "                    # Countess Contee was at the far left, \n",
    "                    'your code here'\n",
    "                    # next to the guest wearing a red jacket.\n",
    "                    'your code here'\n",
    "                    # The lady in blue sat left of someone in green.\n",
    "                    'your code here'\n",
    "                    # I remember that blue outfit because the woman spilled her whiskey all over it.\n",
    "                    'your code here'\n",
    "                    # The traveler from Baleton was dressed entierly in white.\n",
    "                    'your code here'\n",
    "                    # When one of the dinner guests bragged about her War Medal, \n",
    "                    # the woman next to her said they were finer in Baleton, where she lived.\n",
    "                    'your code here'\n",
    "                    # So Doctor Marcolla showed off a prized Bird Pendant\n",
    "                    'your code here'\n",
    "                    # at which the lady from Fraeport scoffed, saying it was no match for her Snuff Tin.\n",
    "                    'your code here'\n",
    "                    # Someone else carried a valuable Ring and when she saw it, \n",
    "                    # the visitor from Dabokva next to her almost spilled her neighbor's beer.\n",
    "                    'your code here'\n",
    "                    # Lady Winslow raised her rum in toast.\n",
    "                    'your code here'\n",
    "                    # The lady from Dunwall, full of wine, \n",
    "                    'your code here'\n",
    "                    # jumped up onto the table, falling onto the guest in the center seat, \n",
    "                    # spilling the poor woman's absinthe.\n",
    "                    'your code here'\n",
    "                    # Then Madam Natsiou captivated them all with a story about her wild youth in Karnaca.\n",
    "                    'your code here'\n",
    "                  }\n",
    "    # Two ladies can't share a seat.\n",
    "    'your code here'\n",
    "    # They all have different drinks\n",
    "    'your code here'\n",
    "    # and come from different cities.\n",
    "    'your code here'\n",
    "    # They have different Heirlooms\n",
    "    'your code here'\n",
    "    # and wear clothes of different color.\n",
    "    'your code here'\n",
    "    return 'your code here'"
   ]
  },
  {
   "cell_type": "code",
   "execution_count": null,
   "metadata": {},
   "outputs": [],
   "source": [
    "riddle = createCSP()\n",
    "riddle"
   ]
  },
  {
   "cell_type": "code",
   "execution_count": null,
   "metadata": {},
   "outputs": [],
   "source": [
    "%%time\n",
    "Solution = cspSolver.solve(riddle)"
   ]
  },
  {
   "cell_type": "code",
   "execution_count": null,
   "metadata": {},
   "outputs": [],
   "source": [
    "print(Solution)"
   ]
  },
  {
   "cell_type": "markdown",
   "metadata": {},
   "source": [
    "Solving the problem takes about 0.2 seconds on my computer."
   ]
  },
  {
   "cell_type": "markdown",
   "metadata": {},
   "source": [
    "## Functions to PrettyPrint the Solution"
   ]
  },
  {
   "cell_type": "code",
   "execution_count": null,
   "metadata": {},
   "outputs": [],
   "source": [
    "from IPython.display import HTML"
   ]
  },
  {
   "cell_type": "code",
   "execution_count": null,
   "metadata": {},
   "outputs": [],
   "source": [
    "def showHTML(Solution):\n",
    "    result  = '<table style=\"border:2px solid blue\">\\n'\n",
    "    result += '<tr>'\n",
    "    for name in ['Chair', 'Lady', 'City', 'Drink', 'Colour', 'Heirloom']:\n",
    "        result += '<th style=\"color:gold; background-color:blue\">' + name + '</th>'\n",
    "    result += '</tr>\\n'\n",
    "    for chair in range(1, 5+1):\n",
    "        result += '<tr><td style=\"border:1px solid green\">' + str(chair) + '</td>'\n",
    "        for Class in [Ladies, Cities, Drinks, Colors, Heirlooms]:\n",
    "            for x in Class:\n",
    "                if Solution[x] == chair:\n",
    "                    result += '<td  style=\"border:1px solid green\">' + x + '</td>'\n",
    "        result += '</tr>\\n'\n",
    "    result += '</table>'\n",
    "    display(HTML(result))"
   ]
  },
  {
   "cell_type": "code",
   "execution_count": null,
   "metadata": {},
   "outputs": [],
   "source": [
    "showHTML(Solution)"
   ]
  },
  {
   "cell_type": "code",
   "execution_count": null,
   "metadata": {},
   "outputs": [],
   "source": []
  }
 ],
 "metadata": {
  "hide_input": false,
  "kernelspec": {
   "display_name": "Python 3",
   "language": "python",
   "name": "python3"
  },
  "language_info": {
   "codemirror_mode": {
    "name": "ipython",
    "version": 3
   },
   "file_extension": ".py",
   "mimetype": "text/x-python",
   "name": "python",
   "nbconvert_exporter": "python",
   "pygments_lexer": "ipython3",
   "version": "3.6.7"
  },
  "toc": {
   "base_numbering": 1,
   "nav_menu": {},
   "number_sections": true,
   "sideBar": true,
   "skip_h1_title": false,
   "title_cell": "Table of Contents",
   "title_sidebar": "Contents",
   "toc_cell": false,
   "toc_position": {},
   "toc_section_display": true,
   "toc_window_display": false
  },
  "varInspector": {
   "cols": {
    "lenName": 16,
    "lenType": 16,
    "lenVar": 40
   },
   "kernels_config": {
    "python": {
     "delete_cmd_postfix": "",
     "delete_cmd_prefix": "del ",
     "library": "var_list.py",
     "varRefreshCmd": "print(var_dic_list())"
    },
    "r": {
     "delete_cmd_postfix": ") ",
     "delete_cmd_prefix": "rm(",
     "library": "var_list.r",
     "varRefreshCmd": "cat(var_dic_list()) "
    }
   },
   "types_to_exclude": [
    "module",
    "function",
    "builtin_function_or_method",
    "instance",
    "_Feature"
   ],
   "window_display": false
  }
 },
 "nbformat": 4,
 "nbformat_minor": 2
}
