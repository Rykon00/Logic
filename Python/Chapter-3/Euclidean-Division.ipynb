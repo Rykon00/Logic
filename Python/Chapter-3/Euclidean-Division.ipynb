{
 "cells": [
  {
   "cell_type": "code",
   "execution_count": null,
   "id": "0",
   "metadata": {},
   "outputs": [],
   "source": [
    "from IPython.display import HTML\n",
    "HTML(open('../style.css', 'r').read())"
   ]
  },
  {
   "cell_type": "code",
   "execution_count": null,
   "id": "1",
   "metadata": {},
   "outputs": [],
   "source": [
    "%load_ext nb_mypy"
   ]
  },
  {
   "cell_type": "markdown",
   "id": "2",
   "metadata": {},
   "source": [
    "# Euclidean Division"
   ]
  },
  {
   "cell_type": "markdown",
   "id": "3",
   "metadata": {},
   "source": [
    "The function `div_mod` takes to natural numbers $m$ and $n$ as arguments.  \n",
    "We must have $n > 0$.\n",
    "\n",
    "It returns the unique pair $(q, r)$\n",
    "that satisfies the following two formulas:\n",
    "1. $m = q \\cdot n + r$,\n",
    "2. $r < n$."
   ]
  },
  {
   "cell_type": "code",
   "execution_count": null,
   "id": "4",
   "metadata": {},
   "outputs": [],
   "source": [
    "def div_mod(m: int, n: int) -> tuple[int, int]:\n",
    "    if m < n:\n",
    "        return 0, m\n",
    "    q, r = div_mod(m // 2, n)\n",
    "    if 2 * r + m % 2 < n:\n",
    "        return 2 * q    , 2 * r + m % 2\n",
    "    else:\n",
    "        return 2 * q + 1, 2 * r + m % 2 - n"
   ]
  },
  {
   "cell_type": "markdown",
   "id": "5",
   "metadata": {},
   "source": [
    "We test this function using random numbers."
   ]
  },
  {
   "cell_type": "code",
   "execution_count": null,
   "id": "6",
   "metadata": {},
   "outputs": [],
   "source": [
    "import random as rnd\n",
    "rnd.seed(42)"
   ]
  },
  {
   "cell_type": "code",
   "execution_count": null,
   "id": "7",
   "metadata": {},
   "outputs": [],
   "source": [
    "for _ in range(1_000_000):\n",
    "    m = rnd.randrange(1_000_000_000_000)\n",
    "    n = rnd.randrange(1, 1_000_000_000)\n",
    "    q, r = div_mod(m, n)\n",
    "    assert m == q * n + r and r < n, f'm = {m}, n = {n}, q = {q}, r = {r}'\n",
    "print('All tests have been successful!')    "
   ]
  },
  {
   "cell_type": "code",
   "execution_count": null,
   "id": "8",
   "metadata": {},
   "outputs": [],
   "source": []
  }
 ],
 "metadata": {
  "kernelspec": {
   "display_name": "Python 3 (ipykernel)",
   "language": "python",
   "name": "python3"
  },
  "language_info": {
   "codemirror_mode": {
    "name": "ipython",
    "version": 3
   },
   "file_extension": ".py",
   "mimetype": "text/x-python",
   "name": "python",
   "nbconvert_exporter": "python",
   "pygments_lexer": "ipython3",
   "version": "3.13.2"
  }
 },
 "nbformat": 4,
 "nbformat_minor": 5
}
