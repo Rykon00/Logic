








%run 02-Backtracking-Constraint-Solver.ipynb





def allDifferent(Variables):
    return { f'{x} != {y}' for x in Variables
                           for y in Variables
                           if  x < y
           }


allDifferent(['x', 'y', 'z'])





def next_to(x, y):
    return abs(x-y) == 1


next_to(2, 3)





Nations   = { "English", "Spanish", "Ukrainian", "Norwegian", "Japanese" }
Drinks    = { "Coffee" , "Tea", "Milk", "OrangeJuice", "Water" }
Pets      = { "Dog", "Snails", "Horse", "Fox", "Zebra" }
Brands    = { "LuckyStrike", "Parliaments", "Kools", "Chesterfields", "OldGold" }
Colours   = { "Red", "Green", "Ivory", "Yellow", "Blue" }


def zebraCSP(): 
    # Each of the five houses is painted in a different colour, 
    # their inhabitants are of different nationalities, own different pets, 
    # drink different beverages, and smoke-different brands of cigarettes.
    Constraints = allDifferent(Nations)
    Constraints |= allDifferent(Drinks)
    Constraints |= allDifferent(Pets)
    Constraints |= allDifferent(Brands)
    Constraints |= allDifferent(Colours)
    # There are five houses
    Values = { 1, 2, 3, 4, 5 }
    # The Englishman lives in the red house.
    Constraints |= {"English == Red"}
    # The Spaniard owns the dog.
    Constraints |= {"Spanish == Dog"}
    # Coffee is drunk in the green house.
    Constraints |= {"Coffee ==Green"}
    # The Ukrainian drinks tea.=
    Constraints |= {"Ukrainian == Tea"}
    # The green house is immediately to the right of the ivory house.
    Constraints |= {"next_to(Green, Ivory)"}
    # The Old Gold smoker owns snails.
    Constraints |= {"OldGold == Snails"}
    # Kools are smoked in the yellow house.
    Constraints |= {"Kools == Yellow"}
    # Milk is drunk in the middle house.
    Constraints |= {"Milk == 3"}
    # The Norwegian lives in the first house.
    Constraints |= {"Norwegian == 1"}
    # The man who smokes Chesterfields lives in the house next to the man with the fox.
    Constraints |= {"next_to(Chesterfields, Fox)"}
    # Kools are smoked in the house next to the house where the horse is kept.
    Constraints |= {"next_to(Kools,Horse)"}
    # The Lucky Strike smoker drinks orange juice.
    Constraints |= {"LuckyStrike == OrangeJuice"}
    # The Japanese smokes Parliaments.
    Constraints |= {"Japanese == Parliaments"}
    # The Norwegian lives next to the blue house.
    Constraints |= {"next_to(Norwegian, Blue)"}
    Variables = ["Norwegian", "Blue", "Milk", "English", "Red", "Spanish", "Dog", "Coffee", "Green",
                "Ivory", "Ukrainian", "Tea", "OldGold", "Snails", "Kools", "Yellow", "Horse", "Chesterfields",
                "Japanese", "OrangeJuice", "Water", "Zebra", "LuckyStrike", "Parliaments", "Fox"]
    return Variables, Values, Constraints


zebra = zebraCSP()


zebra





%%time
solution = solve(zebra)


solution





from IPython.display import HTML


def showHTML(Solution):
    result  = '<table style="border:2px solid blue">\n'
    result += '<tr>'
    for name in ['House', 'Nationality',  'Drink', 'Animal', 'Brand', 'Colour']:
        result += '<th style="color:gold; background-color:blue">' + name + '</th>'
    result += '</tr>\n'
    for chair in range(1, 5+1):
        result += '<tr><td style="border:1px solid green">' + str(chair) + '</td>'
        for Class in [Nations, Drinks, Pets, Brands, Colours]:
            for x in Class:
                if Solution[x] == chair:
                    result += '<td  style="border:1px solid green">' + x + '</td>'
        result += '</tr>\n'
    result += '</table>'
    display(HTML(result))


showHTML(solution)








def negateSolution(Solution):
    return ' or '.join([ f'{var} != {Solution[var]}' for var in Solution])


negateSolution(solution)





def checkUniqueness(Solution, CSP):
    Vars, Values, Constraints = CSP
    NewCSP = Vars, Values, Constraints | { negateSolution(Solution) }
    NewSolution = solve(NewCSP)
    if NewSolution:
        print('The solution is not unique. The alternative solution is:')
        showHTML(NewSolution)
        return NewSolution
    else:
        print('Well done! The solution is unique.')


%%time 
checkUniqueness(solution, zebra)
